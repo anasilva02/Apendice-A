{
 "cells": [
  {
   "cell_type": "code",
   "execution_count": null,
   "id": "49a87799",
   "metadata": {},
   "outputs": [],
   "source": [
    "#BAIXAR BIBLIOTECAS\n",
    "!pip install matplotlib\n",
    "!pip install scikit-learn\n",
    "!pip install plotly\n",
    "\n",
    "#IMPORTAR BIBLIOTECA\n",
    "#para trabalhar com base de dados\n",
    "import pandas as pd\n",
    "from pandas import Series\n",
    "from datetime import datetime\n",
    "from dateutil.parser import parse\n",
    "from datetime import date, timedelta, datetime\n",
    "from pandas import DataFrame\n",
    "\n",
    "#para trabalhar com gráficos\n",
    "import plotly.express as px\n",
    "import matplotlib.pyplot as plt\n",
    "plt.style.use('ggplot')\n",
    "from matplotlib.pyplot import rcParams\n",
    "rcParams['figure.figsize']=15,6\n",
    "\n",
    "#para trabalhar com series temporais\n",
    "from sklearn.model_selection import train_test_split\n",
    "from statsmodels.tsa.filters.hp_filter import hpfilter\n",
    "from statsmodels.tsa.seasonal import seasonal_decompose"
   ]
  },
  {
   "cell_type": "code",
   "execution_count": null,
   "id": "237c8bb4",
   "metadata": {},
   "outputs": [],
   "source": [
    "#importar base de dados\n",
    "#cada base de dados é referente a uma loja\n",
    "dateparse = lambda dates: pd.datetime.strptime(dates, '%d/%m/%Y')\n",
    "Loja_1 = pd.read_csv('Loja_1.csv', parse_dates=['DATA'],date_parser=dateparse)\n",
    "display(Loja_1)"
   ]
  },
  {
   "cell_type": "code",
   "execution_count": null,
   "id": "322e1229",
   "metadata": {},
   "outputs": [],
   "source": [
    "#especificar produto\n",
    "#escolher um produto dentro da loja para trabalhar\n",
    "ProdutoGeral = Loja_1.loc[Loja_1['PRODUTO']=='A1']\n",
    "ProdutoGeral = Produto.drop(['PRODUTO'], axis=1)\n",
    "#display(ProdutoGeral)\n",
    "print(ProdutoGeral.info())\n",
    "\n",
    "#plotar serie temporal\n",
    "graf_ts = px.line(ProdutoGeral, x='DATA', y='QTDE_VDA')\n",
    "display(graf_ts)"
   ]
  },
  {
   "cell_type": "code",
   "execution_count": null,
   "id": "3acb098a",
   "metadata": {},
   "outputs": [],
   "source": [
    "#preparação para decompor a serie temporal\n",
    "#definir data como index\n",
    "ProdutoGeral.set_index('DATA', inplace=True)\n",
    "ProdutoGeral = ProdutoGeral.drop(['DIA_SEMANA','DIA_MES', 'OFERTA'], axis=1)\n",
    "print(ProdutoGeral.info())"
   ]
  },
  {
   "cell_type": "code",
   "execution_count": null,
   "id": "237f832e",
   "metadata": {},
   "outputs": [],
   "source": [
    "#decompor serie temporal (periodo=6)\n",
    "\n",
    "T= 6 \n",
    "results = seasonal_decompose(ProdutoGeral, model='aditive', period = T)\n",
    "trend_stimate = results.trend\n",
    "periodic_estimate = results.seasonal\n",
    "residual = results.resid\n",
    "\n",
    "results.plot()"
   ]
  }
 ],
 "metadata": {
  "kernelspec": {
   "display_name": "Python 3",
   "language": "python",
   "name": "python3"
  },
  "language_info": {
   "codemirror_mode": {
    "name": "ipython",
    "version": 3
   },
   "file_extension": ".py",
   "mimetype": "text/x-python",
   "name": "python",
   "nbconvert_exporter": "python",
   "pygments_lexer": "ipython3",
   "version": "3.8.8"
  }
 },
 "nbformat": 4,
 "nbformat_minor": 5
}
